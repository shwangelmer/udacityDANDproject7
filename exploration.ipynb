{
 "cells": [
  {
   "cell_type": "markdown",
   "metadata": {},
   "source": [
    "# PISA Data Exploration\n",
    "## by Simon Hwang\n",
    "\n",
    "## Preliminary Wrangling\n",
    "The Programme for International Student Assessment (PISA) is a means of measuring 15-year-old student ability in reading, mathematics, and science. The assessments are conducted every 3 years since 2000, and usually garner participation from about 80 countries."
   ]
  },
  {
   "cell_type": "code",
   "execution_count": null,
   "metadata": {},
   "outputs": [],
   "source": [
    "# import all packages and set plots to be embedded inline\n",
    "import numpy as np\n",
    "import pandas as pd\n",
    "import matplotlib.pyplot as plt\n",
    "import seaborn as sb\n",
    "\n",
    "%matplotlib inline"
   ]
  },
  {
   "cell_type": "code",
   "execution_count": null,
   "metadata": {},
   "outputs": [],
   "source": [
    "pisa = pd.read_csv('pisa2012.csv',sep=',', encoding='latin-1',error_bad_lines=False, index_col=False, dtype='str')"
   ]
  },
  {
   "cell_type": "code",
   "execution_count": null,
   "metadata": {},
   "outputs": [],
   "source": [
    "pisa.head()"
   ]
  },
  {
   "cell_type": "code",
   "execution_count": null,
   "metadata": {},
   "outputs": [],
   "source": [
    "pisa.info()"
   ]
  },
  {
   "cell_type": "code",
   "execution_count": null,
   "metadata": {},
   "outputs": [],
   "source": [
    "dic = pd.read_csv('pisadict2012.csv', encoding='latin-1')"
   ]
  },
  {
   "cell_type": "code",
   "execution_count": null,
   "metadata": {},
   "outputs": [],
   "source": [
    "dic"
   ]
  },
  {
   "cell_type": "markdown",
   "metadata": {},
   "source": [
    "### Narrow the dataset into a subset that is simplified and easier to work with, using only OECD countries and key columns to my investigation"
   ]
  },
  {
   "cell_type": "code",
   "execution_count": null,
   "metadata": {},
   "outputs": [],
   "source": [
    "df = pisa.drop(pisa[pisa.OECD == 'Non-OECD'].index).copy()"
   ]
  },
  {
   "cell_type": "code",
   "execution_count": null,
   "metadata": {},
   "outputs": [],
   "source": [
    "df.OECD.isin(['OECD']).all()"
   ]
  },
  {
   "cell_type": "code",
   "execution_count": null,
   "metadata": {},
   "outputs": [],
   "source": [
    "df = df[['CNT','ST04Q01','ESCS','PV1MATH','PV2MATH','PV3MATH','PV4MATH','PV5MATH','PV1READ','PV2READ','PV3READ','PV4READ','PV5READ','PV1SCIE','PV2SCIE','PV3SCIE','PV4SCIE','PV5SCIE']]"
   ]
  },
  {
   "cell_type": "code",
   "execution_count": null,
   "metadata": {},
   "outputs": [],
   "source": [
    "df.head()"
   ]
  },
  {
   "cell_type": "code",
   "execution_count": null,
   "metadata": {},
   "outputs": [],
   "source": [
    "# check the countries that are left, and their sample sizes\n",
    "df.CNT.value_counts()"
   ]
  },
  {
   "cell_type": "code",
   "execution_count": null,
   "metadata": {},
   "outputs": [],
   "source": [
    "# verify data completeness and dtypes\n",
    "df.info()"
   ]
  },
  {
   "cell_type": "code",
   "execution_count": null,
   "metadata": {},
   "outputs": [],
   "source": [
    "# investigate missing ESCS values\n",
    "df[df.ESCS.isna()].sample(5)"
   ]
  },
  {
   "cell_type": "code",
   "execution_count": null,
   "metadata": {},
   "outputs": [],
   "source": [
    "df[df.ESCS.isna()].CNT.value_counts()"
   ]
  },
  {
   "cell_type": "code",
   "execution_count": null,
   "metadata": {},
   "outputs": [],
   "source": [
    "# drop nan rows, as it is a problem that seems to affect most OECD countries to some degree\n",
    "df.dropna(inplace=True)"
   ]
  },
  {
   "cell_type": "code",
   "execution_count": null,
   "metadata": {},
   "outputs": [],
   "source": [
    "# update data types that are numbers\n",
    "for i in range(2, 18):\n",
    "    df.iloc[:, i] = df.iloc[:, i].astype('float64')"
   ]
  },
  {
   "cell_type": "code",
   "execution_count": null,
   "metadata": {},
   "outputs": [],
   "source": [
    "# check dtypes are corrected\n",
    "df.info()"
   ]
  },
  {
   "cell_type": "code",
   "execution_count": null,
   "metadata": {},
   "outputs": [],
   "source": [
    "# computer PISA scores by averaging plausible values. See readme for flaws of this approach\n",
    "df['MathScore'] = df.loc[:,'PV1MATH':'PV5MATH'].mean(axis=1)\n",
    "df['ReadScore'] = df.loc[:,'PV1READ':'PV5READ'].mean(axis=1)\n",
    "df['ScienceScore'] = df.loc[:,'PV1SCIE':'PV5SCIE'].mean(axis=1)"
   ]
  },
  {
   "cell_type": "code",
   "execution_count": null,
   "metadata": {},
   "outputs": [],
   "source": [
    "# drop plausible value columns\n",
    "df = df.iloc[:,[0, 1, 2, 18, 19, 20]]"
   ]
  },
  {
   "cell_type": "code",
   "execution_count": null,
   "metadata": {},
   "outputs": [],
   "source": [
    "df.columns = ['Country', 'Sex', 'SocioEconIndex', 'MathScore', 'ReadScore', 'ScienceScore']"
   ]
  },
  {
   "cell_type": "code",
   "execution_count": null,
   "metadata": {},
   "outputs": [],
   "source": [
    "df.head()"
   ]
  },
  {
   "cell_type": "markdown",
   "metadata": {},
   "source": [
    "### What is the structure of your dataset?\n",
    "\n",
    "This dataset was imported as a flat file with 636 columns and 485490 rows. I have converted it into a clean, tidy subset of that file.\n",
    "\n",
    "### What is/are the main feature(s) of interest in your dataset?\n",
    "There are many possible main features of interest in this dataset, but I will focus on the scores in mathematics, reading, and science given to each student. PISA gives 5 plausible values for each knowledge area which I will average. Ordinarily, these should be weighted and replicated as per the PISA Data Analysis Manual. However, this is beyond the scope of this project, so I will be using them as is.\n",
    "> Note: any relationships and conclusions may be invalid due to the discrepancy in error resulting from failing to adhere to the data wrangling steps detailed in their guidelines. See the `readme` for more information.\n",
    "\n",
    "### What features in the dataset do you think will help support your investigation into your feature(s) of interest?\n",
    "The name of the country (CNT), gender of the student (ST04Q01), and the student's index of economic, social and cultural status (ESCS)."
   ]
  },
  {
   "cell_type": "markdown",
   "metadata": {},
   "source": [
    "## Univariate Exploration"
   ]
  },
  {
   "cell_type": "code",
   "execution_count": null,
   "metadata": {},
   "outputs": [],
   "source": [
    "df.Country.describe()"
   ]
  },
  {
   "cell_type": "code",
   "execution_count": null,
   "metadata": {},
   "outputs": [],
   "source": [
    "plt.figure(figsize=(16,8))\n",
    "plt.barh(width=df.Country.value_counts(), y=df.Country.value_counts().index);"
   ]
  },
  {
   "cell_type": "code",
   "execution_count": null,
   "metadata": {},
   "outputs": [],
   "source": [
    "plt.figure(figsize=(10, 10))\n",
    "plt.pie(df.Country.value_counts(), labels=df.Country.value_counts().index);"
   ]
  },
  {
   "cell_type": "markdown",
   "metadata": {},
   "source": [
    "Student responses span a wide range, but do not fall far below 5000, probably because most OECD countries opt to obey PISA's __5000 students minimum requirement__. Iceland is somewhat of an outlier at the low end, but is excused due to its low population, which makes it difficult to reach 5000 even if they test every 15 year old student in the whole country. Canada, Spain, Italy, and Mexico all test well above 20000. This likely will make a good graph, with some polishing, to show off in the final report.\n",
    "\n",
    "I also graphed a pie chart, which I think helps show how the higher sample sizes of Mexico, Italy, and Spain account for more than a quarter of the total sample. This would cause significant error, since I will not be using the PISA student weights."
   ]
  },
  {
   "cell_type": "code",
   "execution_count": null,
   "metadata": {},
   "outputs": [],
   "source": [
    "plt.pie(df.Sex.value_counts(), labels=df.Sex.value_counts().index, startangle=90, autopct='%1.2f%%');"
   ]
  },
  {
   "cell_type": "markdown",
   "metadata": {},
   "source": [
    "The sex of students in this sample is decidedly female-biased, but it's important to note that this may be biased by those countries that test more students. This could be an interesting investigation for bivariate exploration. Also, with such an even distribution, this will make for a great categorical variable to layer on top of bivariate exploration to see multivariate relationships."
   ]
  },
  {
   "cell_type": "code",
   "execution_count": null,
   "metadata": {},
   "outputs": [],
   "source": [
    "df.SocioEconIndex.describe()"
   ]
  },
  {
   "cell_type": "code",
   "execution_count": null,
   "metadata": {},
   "outputs": [],
   "source": [
    "bins = np.arange(-4, 3.5, 0.5)\n",
    "plt.hist(data=df, x='SocioEconIndex', bins=bins);\n",
    "plt.xticks(np.arange(-4, 4, 1));"
   ]
  },
  {
   "cell_type": "markdown",
   "metadata": {},
   "source": [
    "This looks like a pleasingly normal, unimodal distribution around 0, which makes sense given that the metric is constructed with zero being the score of an average OECD student and one being the  standard deviation across equally weighted OECD countries."
   ]
  },
  {
   "cell_type": "code",
   "execution_count": null,
   "metadata": {},
   "outputs": [],
   "source": [
    "#graph all scores together for convenience\n",
    "sb.violinplot(data=df[['MathScore','ReadScore','ScienceScore']]);"
   ]
  },
  {
   "cell_type": "markdown",
   "metadata": {},
   "source": [
    "### Discuss the distribution(s) of your variable(s) of interest. Were there any unusual points? Did you need to perform any transformations?\n",
    "For `Country`, the distribution of # of students sampled may appear to be logarithmic, but it's important to remember that this is a bar chart and not a histogram. I don't think a transformation would be helpful for that reason. Adding a line to indicate the 5,000 suggested minimum sample size may help. For `Sex`, there were slightly more female (50.18%) than male (49.82%) students. The remaining metrics of `SocioEconIndex`, `MathScore`, `ReadScore`, and `ScienceScore` are constructed scores that are designed to have normal distributions, so there was nothing unusual about them and did not require any transformations.\n",
    "\n",
    "### Of the features you investigated, were there any unusual distributions? Did you perform any operations on the data to tidy, adjust, or change the form of the data? If so, why did you do this?\n",
    "The `Country` distribution is a bit strange due to some countries opting to test more students (see notes above), but I think showing it in both bar and pie chart forms helps clarify the discrepancies. I did perform operations on the dataset as a whole to eliminate countries with partial testing, and non-OECD countries as they tend to have more erratic results. The `SocioEconIndex` distribution had a minimum of -5.62, but I opted to start the histogram at -4 to show more detail because the y-axis scale would not even show the points below -4."
   ]
  },
  {
   "cell_type": "markdown",
   "metadata": {},
   "source": [
    "## Bivariate Exploration"
   ]
  },
  {
   "cell_type": "code",
   "execution_count": null,
   "metadata": {},
   "outputs": [],
   "source": [
    "pd.plotting.scatter_matrix(df, figsize=(10,10), alpha=0.1);"
   ]
  },
  {
   "cell_type": "markdown",
   "metadata": {},
   "source": [
    "This matrix of scatter plots shows a pretty clear positive linear correlation between the three knowledge scores, which makes intuitive sense. Students who learn better and are more intelligent tend to score higher in all categories. The `SocioEconIndex` correlation is less clear, and may warrant further investigation, which I will attempt with a heatmap, hoping that binning the values will make the overplotting less of a problem."
   ]
  },
  {
   "cell_type": "code",
   "execution_count": null,
   "metadata": {},
   "outputs": [],
   "source": [
    "df.ScienceScore.describe()"
   ]
  },
  {
   "cell_type": "code",
   "execution_count": null,
   "metadata": {},
   "outputs": [],
   "source": [
    "#since the scores are all highly correlated, I will only be plotting Science as an example\n",
    "x_bin = np.arange(-5.5, df.SocioEconIndex.max()+0.5, 0.5)\n",
    "y_bin = np.arange(0, df.ScienceScore.max()+50, 50)\n",
    "plt.hist2d(data=df, x='SocioEconIndex', y='ScienceScore', bins=[x_bin, y_bin], cmin=0.5, cmap='inferno_r')\n",
    "plt.colorbar()\n",
    "plt.xlabel('Socioeconomic Index (ESCS)')\n",
    "plt.ylabel('Science Score (Avg)');"
   ]
  },
  {
   "cell_type": "markdown",
   "metadata": {},
   "source": [
    "This heatmap is able to cut through the enormous amount of data points and show that there is a strong positive correlation between the socioeconomic index of the student and their scores on the PISA exam."
   ]
  },
  {
   "cell_type": "code",
   "execution_count": null,
   "metadata": {},
   "outputs": [],
   "source": [
    "plt.figure(figsize=(10,10))\n",
    "sb.countplot(y='Country',hue='Sex',data=df);"
   ]
  },
  {
   "cell_type": "markdown",
   "metadata": {},
   "source": [
    "This plot shows there are some countries that objectively have more of one sex in their sample. However, it is a bit hard to see relatively how large-sample countries fair compared to small-sample countries. Refining this graph to show count/population would be more illuminating."
   ]
  },
  {
   "cell_type": "markdown",
   "metadata": {},
   "source": [
    "### Talk about some of the relationships you observed in this part of the investigation. How did the feature(s) of interest vary with other features in the dataset?\n",
    "\n",
    "The knowledge scores interacted with each other in the exact way that one would expect: smarter kids tend to be smarter in all categories. `MathScore`, `ReadScore`, and `ScienceScore` were all clearly positively correlated with each other. Additionally, `SocioEconIndex` showed a strong, albeit weaker than those, correlation with those scores as well. This corresponds with the idea that students of higher socioeconomic standing (parental income, social class, racial privilege) tend to be better educated. The exact causal relationship of that would be interesting to examine, and is perhaps best done so by the PISA committee themselves in their own report.\n",
    "\n",
    "### Did you observe any interesting relationships between the other features (not the main feature(s) of interest)?\n",
    "\n",
    "Some countries (Slovenia, Korea, Mexico) had significantly more of one sex than the other in their sample. That discrepancy compared to other countries with more equal sex representation would be interesting to examine more closely, but is beyond the scope of this project."
   ]
  },
  {
   "cell_type": "markdown",
   "metadata": {},
   "source": [
    "## Multivariate Exploration\n",
    "\n",
    "> Create plots of three or more variables to investigate your data even\n",
    "further. Make sure that your investigations are justified, and follow from\n",
    "your work in the previous sections."
   ]
  },
  {
   "cell_type": "code",
   "execution_count": null,
   "metadata": {},
   "outputs": [],
   "source": []
  },
  {
   "cell_type": "markdown",
   "metadata": {},
   "source": [
    "### Talk about some of the relationships you observed in this part of the investigation. Were there features that strengthened each other in terms of looking at your feature(s) of interest?\n",
    "\n",
    "> Your answer here!\n",
    "\n",
    "### Were there any interesting or surprising interactions between features?\n",
    "\n",
    "> Your answer here!"
   ]
  },
  {
   "cell_type": "markdown",
   "metadata": {},
   "source": [
    "> At the end of your report, make sure that you export the notebook as an\n",
    "html file from the `File > Download as... > HTML` menu. Make sure you keep\n",
    "track of where the exported file goes, so you can put it in the same folder\n",
    "as this notebook for project submission. Also, make sure you remove all of\n",
    "the quote-formatted guide notes like this one before you finish your report!"
   ]
  },
  {
   "cell_type": "code",
   "execution_count": null,
   "metadata": {},
   "outputs": [],
   "source": []
  }
 ],
 "metadata": {
  "kernelspec": {
   "display_name": "Python 3",
   "language": "python",
   "name": "python3"
  },
  "language_info": {
   "codemirror_mode": {
    "name": "ipython",
    "version": 3
   },
   "file_extension": ".py",
   "mimetype": "text/x-python",
   "name": "python",
   "nbconvert_exporter": "python",
   "pygments_lexer": "ipython3",
   "version": "3.7.7"
  }
 },
 "nbformat": 4,
 "nbformat_minor": 2
}
